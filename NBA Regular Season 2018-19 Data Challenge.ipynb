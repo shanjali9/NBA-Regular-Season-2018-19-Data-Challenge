{
 "cells": [
  {
   "cell_type": "markdown",
   "metadata": {},
   "source": [
    "# Nba Regular Season 2018-19 Data Challenge\n",
    "\n",
    "Your task will be to take the dataset given, and create an analysis answering the following 10 questions. This project will again test your knowledge of pandas in order to find the answers needed given the data you are presented with."
   ]
  },
  {
   "cell_type": "markdown",
   "metadata": {},
   "source": [
    "# What was the average age of player in the league?"
   ]
  },
  {
   "cell_type": "code",
   "execution_count": 42,
   "metadata": {},
   "outputs": [
    {
     "name": "stdout",
     "output_type": "stream",
     "text": [
      "Overall average age of players in the league : 25.9 years\n"
     ]
    }
   ],
   "source": [
    "import pandas as pd\n",
    "\n",
    "nbastats = pd.read_csv('nbastats',sep = ',')\n",
    "\n",
    "nbastats.describe(include = 'all')\n",
    "\n",
    "Avg_age = nbastats['Age'].mean()\n",
    "\n",
    "print(f\"Overall average age of players in the league : {Avg_age:.1f} years\")"
   ]
  },
  {
   "cell_type": "markdown",
   "metadata": {},
   "source": [
    "# What player scored the most points?"
   ]
  },
  {
   "cell_type": "code",
   "execution_count": 43,
   "metadata": {
    "scrolled": true
   },
   "outputs": [
    {
     "name": "stdout",
     "output_type": "stream",
     "text": [
      "The highest points scored by a player are 36.1\n"
     ]
    }
   ],
   "source": [
    "max_pts = nbastats['Points'].max()\n",
    "print(f\"The highest points scored by a player are {max_pts}\")\n",
    "#highest_scorer = nbastats.where(nbastats['Points'] == max_pts)\n",
    "# max_score = nbastats.loc[nbastats['Points'].max()]\n",
    "# print(max_score)"
   ]
  },
  {
   "cell_type": "markdown",
   "metadata": {},
   "source": [
    "# What player had the most blocks during the season? Was it a post player (F/C)?"
   ]
  },
  {
   "cell_type": "code",
   "execution_count": 51,
   "metadata": {
    "scrolled": true
   },
   "outputs": [
    {
     "name": "stdout",
     "output_type": "stream",
     "text": [
      "The player with the most blocks is Myles Turner.\n"
     ]
    }
   ],
   "source": [
    "import numpy as np \n",
    "nbastats.describe(include='all')\n",
    "player_with_most_blocks = nbastats.loc[nbastats['Blocks'].idxmax()]['Name']\n",
    "\n",
    "print(f\"The player with the most blocks is {player_with_most_blocks}.\")"
   ]
  },
  {
   "cell_type": "markdown",
   "metadata": {},
   "source": [
    "# Based on the regular season, who had the best chance to win a title given their win percentage?"
   ]
  },
  {
   "cell_type": "code",
   "execution_count": 52,
   "metadata": {},
   "outputs": [
    {
     "name": "stdout",
     "output_type": "stream",
     "text": [
      "The player with best chance to win a title is James Harden.\n"
     ]
    }
   ],
   "source": [
    "nbastats.describe(include='all')\n",
    "title_winner = nbastats.loc[nbastats['WS'].idxmax()]['Name']\n",
    "\n",
    "print(f\"The player with best chance to win a title is {title_winner}.\")"
   ]
  },
  {
   "cell_type": "markdown",
   "metadata": {},
   "source": [
    "# What player had the best 3-pt percentage? "
   ]
  },
  {
   "cell_type": "code",
   "execution_count": 59,
   "metadata": {},
   "outputs": [
    {
     "name": "stdout",
     "output_type": "stream",
     "text": [
      "The player with best 3-pt percentage is Trevon Duval.\n"
     ]
    }
   ],
   "source": [
    "nbastats.describe(include='all')\n",
    "threept_per = nbastats.loc[nbastats['FG3%'].idxmax()]['Name']\n",
    "\n",
    "print(f\"The player with best 3-pt percentage is {threept_per}.\")"
   ]
  },
  {
   "cell_type": "markdown",
   "metadata": {},
   "source": [
    "# Who played the most minutes during the season"
   ]
  },
  {
   "cell_type": "code",
   "execution_count": 60,
   "metadata": {},
   "outputs": [
    {
     "name": "stdout",
     "output_type": "stream",
     "text": [
      "The player who played the most minutes is Bradley Beal.\n"
     ]
    }
   ],
   "source": [
    "highest_minutes = nbastats.loc[nbastats['MP'].idxmax()]['Name']\n",
    "\n",
    "print(f\"The player who played the most minutes is {highest_minutes}.\")"
   ]
  },
  {
   "cell_type": "markdown",
   "metadata": {},
   "source": [
    "# What player given their player effiecency rating was the clutchest during the season?"
   ]
  },
  {
   "cell_type": "code",
   "execution_count": 61,
   "metadata": {},
   "outputs": [
    {
     "name": "stdout",
     "output_type": "stream",
     "text": [
      "The clutchest player of the season is Zhou Qi.\n"
     ]
    }
   ],
   "source": [
    "clutchest_player = nbastats.loc[nbastats['PER'].idxmax()]['Name']\n",
    "\n",
    "print(f\"The clutchest player of the season is {clutchest_player}.\")"
   ]
  },
  {
   "cell_type": "markdown",
   "metadata": {},
   "source": [
    "# What team had the youngest roster?"
   ]
  },
  {
   "cell_type": "code",
   "execution_count": 58,
   "metadata": {},
   "outputs": [
    {
     "name": "stdout",
     "output_type": "stream",
     "text": [
      "The team with the youngest player is Oklahoma City Thunder.\n"
     ]
    }
   ],
   "source": [
    "youngest_team = nbastats.loc[nbastats['FG3%'].idxmin()]['Team']\n",
    "\n",
    "print(f\"The team with the youngest player is {youngest_team}.\")"
   ]
  },
  {
   "cell_type": "markdown",
   "metadata": {},
   "source": [
    "# Who is the highest paid player during the seasion?"
   ]
  },
  {
   "cell_type": "code",
   "execution_count": 63,
   "metadata": {},
   "outputs": [
    {
     "name": "stdout",
     "output_type": "stream",
     "text": [
      "The highest paid palyer is John Jenkins.\n"
     ]
    }
   ],
   "source": [
    "highest_paid = nbastats.loc[nbastats['Salary'].idxmax()]['Name']\n",
    "\n",
    "print(f\"The highest paid palyer is {highest_paid}.\")"
   ]
  },
  {
   "cell_type": "markdown",
   "metadata": {},
   "source": [
    "# At the end of a game, who WOULDN'T you want on the Free Throw Line?"
   ]
  },
  {
   "cell_type": "code",
   "execution_count": 66,
   "metadata": {},
   "outputs": [
    {
     "name": "stdout",
     "output_type": "stream",
     "text": [
      "The player I would not want on the Free Throw Line is Jacob Evans.\n"
     ]
    }
   ],
   "source": [
    "min_freethrows = nbastats.loc[nbastats['FT%'].idxmin()]['Name']\n",
    "\n",
    "print(f\"The player I would not want on the Free Throw Line is {min_freethrows}.\")"
   ]
  }
 ],
 "metadata": {
  "kernelspec": {
   "display_name": "Python 3 (ipykernel)",
   "language": "python",
   "name": "python3"
  },
  "language_info": {
   "codemirror_mode": {
    "name": "ipython",
    "version": 3
   },
   "file_extension": ".py",
   "mimetype": "text/x-python",
   "name": "python",
   "nbconvert_exporter": "python",
   "pygments_lexer": "ipython3",
   "version": "3.11.5"
  }
 },
 "nbformat": 4,
 "nbformat_minor": 2
}
